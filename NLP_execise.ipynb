{
  "nbformat": 4,
  "nbformat_minor": 0,
  "metadata": {
    "colab": {
      "provenance": [],
      "collapsed_sections": [
        "qMiPmeB03j8U",
        "1hTs7URXjeEl"
      ],
      "authorship_tag": "ABX9TyPn1+/5q4/ixKJ0srZvVUxf",
      "include_colab_link": true
    },
    "kernelspec": {
      "name": "python3",
      "display_name": "Python 3"
    },
    "language_info": {
      "name": "python"
    },
    "accelerator": "GPU"
  },
  "cells": [
    {
      "cell_type": "markdown",
      "metadata": {
        "id": "view-in-github",
        "colab_type": "text"
      },
      "source": [
        "<a href=\"https://colab.research.google.com/github/R09722akaBennett/Side_Project/blob/master/NLP_execise.ipynb\" target=\"_parent\"><img src=\"https://colab.research.google.com/assets/colab-badge.svg\" alt=\"Open In Colab\"/></a>"
      ]
    },
    {
      "cell_type": "markdown",
      "source": [
        "### **Preprocessing ,Import package **"
      ],
      "metadata": {
        "id": "qMiPmeB03j8U"
      }
    },
    {
      "cell_type": "code",
      "source": [
        "from google.colab import drive\n",
        "drive.mount('/content/gdrive') # 此處需要登入google帳號\n",
        "# 獲取授權碼之後輸入即可連動雲端硬碟"
      ],
      "metadata": {
        "colab": {
          "base_uri": "https://localhost:8080/"
        },
        "id": "W-scFoS32Dso",
        "outputId": "28dead5a-9d40-49e1-889b-3de35c6b7ad9"
      },
      "execution_count": null,
      "outputs": [
        {
          "output_type": "stream",
          "name": "stdout",
          "text": [
            "Mounted at /content/gdrive\n"
          ]
        }
      ]
    },
    {
      "cell_type": "code",
      "execution_count": null,
      "metadata": {
        "id": "u__RlLGr0wSA",
        "colab": {
          "base_uri": "https://localhost:8080/"
        },
        "outputId": "feb4be4e-6025-4fd6-a3a5-0cd37fe73ec3"
      },
      "outputs": [
        {
          "output_type": "stream",
          "name": "stdout",
          "text": [
            "Collecting monpa\n",
            "  Downloading monpa-0.3.2-py3-none-any.whl (8.5 MB)\n",
            "\u001b[K     |████████████████████████████████| 8.5 MB 4.7 MB/s \n",
            "\u001b[?25hRequirement already satisfied: requests in /usr/local/lib/python3.7/dist-packages (from monpa) (2.23.0)\n",
            "Requirement already satisfied: torch>=1.0 in /usr/local/lib/python3.7/dist-packages (from monpa) (1.10.0+cu111)\n",
            "Requirement already satisfied: typing-extensions in /usr/local/lib/python3.7/dist-packages (from torch>=1.0->monpa) (3.10.0.2)\n",
            "Requirement already satisfied: idna<3,>=2.5 in /usr/local/lib/python3.7/dist-packages (from requests->monpa) (2.10)\n",
            "Requirement already satisfied: chardet<4,>=3.0.2 in /usr/local/lib/python3.7/dist-packages (from requests->monpa) (3.0.4)\n",
            "Requirement already satisfied: urllib3!=1.25.0,!=1.25.1,<1.26,>=1.21.1 in /usr/local/lib/python3.7/dist-packages (from requests->monpa) (1.24.3)\n",
            "Requirement already satisfied: certifi>=2017.4.17 in /usr/local/lib/python3.7/dist-packages (from requests->monpa) (2021.10.8)\n",
            "Installing collected packages: monpa\n",
            "Successfully installed monpa-0.3.2\n",
            "Requirement already satisfied: wordcloud in /usr/local/lib/python3.7/dist-packages (1.5.0)\n",
            "Requirement already satisfied: numpy>=1.6.1 in /usr/local/lib/python3.7/dist-packages (from wordcloud) (1.21.5)\n",
            "Requirement already satisfied: pillow in /usr/local/lib/python3.7/dist-packages (from wordcloud) (7.1.2)\n"
          ]
        }
      ],
      "source": [
        "# install package\n",
        "!pip install monpa\n",
        "!pip install wordcloud"
      ]
    },
    {
      "cell_type": "code",
      "source": [
        "# import package\n",
        "import csv\n",
        "import monpa\n",
        "from monpa import utils\n",
        "import pandas as pd\n",
        "from collections import Counter\n",
        "import numpy\n",
        "import wordcloud # 文字雲\n",
        "from PIL import Image\n",
        "import matplotlib.pyplot as plt\n",
        "from scipy import sparse\n",
        "from sklearn.feature_extraction.text import TfidfVectorizer\n",
        "from sklearn import metrics\n",
        "from sklearn.metrics.pairwise import linear_kernel\n",
        "from sklearn.metrics.pairwise import cosine_similarity\n",
        "from sklearn.naive_bayes import MultinomialNB\n",
        "from sklearn.tree import DecisionTreeClassifier   \n",
        "from sklearn.model_selection import train_test_split\n",
        "from sklearn.model_selection import ShuffleSplit\n",
        "from sklearn.model_selection import cross_val_score\n",
        "from sklearn.neighbors import KNeighborsClassifier\n",
        "from sklearn.metrics import accuracy_score\n",
        "from sklearn.metrics import classification_report\n",
        "from sklearn.metrics import confusion_matrix"
      ],
      "metadata": {
        "id": "3pKF6ack1UU3",
        "colab": {
          "base_uri": "https://localhost:8080/"
        },
        "outputId": "0c0787c8-1a74-4e6a-9945-6631bea481fb"
      },
      "execution_count": null,
      "outputs": [
        {
          "output_type": "stream",
          "name": "stdout",
          "text": [
            "+---------------------------------------------------------------------+\n",
            "  Welcome to MONPA: Multi-Objective NER POS Annotator for Chinese\n",
            "+---------------------------------------------------------------------+\n",
            "已找到 model檔。Found model file.\n"
          ]
        }
      ]
    },
    {
      "cell_type": "markdown",
      "source": [
        "### **Keyword Extraction-列出漲停及跌停文件中最具鑑別力的詞彙：每一類各列出100個詞彙，依鑑別力由高至低排列**"
      ],
      "metadata": {
        "id": "AxwxZXaA1oom"
      }
    },
    {
      "cell_type": "code",
      "source": [
        "# Import doc and Generate TF, DF, article_num, segmentation\n",
        "def counter_df_tf_articleNum(path_in,counter_tf,counter_df,num,segmentation):\n",
        "   # 打開語料庫\n",
        "    f1 = open(path_in, 'r', newline='',encoding='utf-8')\n",
        "    rows = csv.reader(f1, delimiter=',')\n",
        "    ## 進行斷詞\n",
        "    i = 0\n",
        "    num = 0\n",
        "    for row in rows:\n",
        "        i += 1\n",
        "        if i > 1:\n",
        "            query = row[0] + ' ' + row[1]\n",
        "            num += 1\n",
        "            df_tmp=Counter() #暫存本篇df用\n",
        "            segment = ''  # 暫存斷詞結果\n",
        "            sentence_list = utils.short_sentence(query)\n",
        "            for item in sentence_list:\n",
        "                result_cut = monpa.cut(item)\n",
        "                for term in result_cut:\n",
        "                    term = term.strip()\n",
        "                    if len(term) > 1:\n",
        "                        counter_tf[term]+=1\n",
        "                        segment = segment + ' ' + term\n",
        "                        if(df_tmp[term]==0): #若本篇之前不曾出現\n",
        "                          df_tmp[term]=1 #df標為1\n",
        "            counter_df+=df_tmp # 累加多篇df\n",
        "            segmentation.append(segment)\n",
        "    f1.close()\n",
        "    return counter_tf, counter_df, num,segmentation"
      ],
      "metadata": {
        "id": "HkppzBWb1kCE"
      },
      "execution_count": null,
      "outputs": []
    },
    {
      "cell_type": "code",
      "source": [
        "# Generate Mutual Information\n",
        "def counter_mi(tf_counter_up,df_counter_up,num_up,tf_counter_down,df_counter_down,num_down,mi_counter_up,mi_counter_down):\n",
        "  for i in tf_counter_up.keys():\n",
        "    i_in_all_article= df_counter_up[i] + df_counter_down[i]\n",
        "    mi = numpy.log10((df_counter_up[i]/(i_in_all_article*num_up)))\n",
        "    mi_counter_up[i]= mi\n",
        "  for i in tf_counter_down.keys():\n",
        "    i_in_all_article= df_counter_up[i] + df_counter_down[i]\n",
        "    mi = numpy.log10((df_counter_down[i]/(i_in_all_article*num_down)))\n",
        "    mi_counter_down[i]= mi\n",
        "  return mi_counter_up, mi_counter_down"
      ],
      "metadata": {
        "id": "_qbbdQY03f-U"
      },
      "execution_count": null,
      "outputs": []
    },
    {
      "cell_type": "code",
      "source": [
        "# Merge dict and count TF-IDF, TF-IDF*MI\n",
        "def merge_dataframe(df_counter,tf_counter,mi_counter,num):\n",
        "  df = pd.merge(pd.merge(pd.DataFrame(list(df_counter.items()),\n",
        "                    columns=['Term', 'DF']), \n",
        "                  pd.DataFrame(list(tf_counter.items()),\n",
        "                    columns=['Term', 'TF'])),\n",
        "                pd.DataFrame(list(mi_counter.items()),\n",
        "                    columns=['Term', 'MI']))\n",
        "  df[\"TF-IDF\"] = (1 + numpy.log10(df[\"TF\"])) * (numpy.log10((num/df[\"DF\"]))).astype(float)\n",
        "  df[\"TF-IDF*MI\"] = df[\"TF-IDF\"] * df[\"MI\"]\n",
        "  return df"
      ],
      "metadata": {
        "id": "YByIk8_hGfJE"
      },
      "execution_count": null,
      "outputs": []
    },
    {
      "cell_type": "code",
      "source": [
        "# Data Cleaning\n",
        "# 清除 TF and DF <=2，清除含的數字關鍵字，並取前200列關鍵字\n",
        "def df_clean(df):\n",
        "  df = df[~df['Term'].str.contains(r'[\\d.]')]\n",
        "  df = df.drop(\n",
        "      df[\n",
        "         (df.TF == 1) & (df.DF == 1)|\n",
        "         (df.TF == 2) & (df.DF == 2)\n",
        "         ].index)\n",
        "  df = df.sort_values(by=\"TF-IDF*MI\", ascending=False).head(200)\n",
        "  return df\n",
        "\n",
        "# Generate intersection words from two dataframe \n",
        "def find_intersection(df1,df2):\n",
        "  intersection = [x for x in df1.Term.values for y in df2.Term.values if x == y]\n",
        "  return intersection\n",
        "\n",
        "# remove top intersection words in dataframe\n",
        "def remove_duplicate(df,intersection):\n",
        "  df = df[~df['Term'].isin(intersection)]\n",
        "  return df\n",
        "\n",
        "# list top common term 100\n",
        "def top_common_term(df):\n",
        "  df = df.head(100)\n",
        "  return df\n"
      ],
      "metadata": {
        "id": "pIdKl-NpK2g-"
      },
      "execution_count": null,
      "outputs": []
    },
    {
      "cell_type": "code",
      "source": [
        "# 匯出關鍵字\n",
        "def path_out(path_out,df):\n",
        "  df.to_csv(path_out,header=False)\n",
        "  return print(\"Export Done\")"
      ],
      "metadata": {
        "id": "-dDR3PstJfCj"
      },
      "execution_count": null,
      "outputs": []
    },
    {
      "cell_type": "code",
      "source": [
        "data_up = \"/content/gdrive/MyDrive/Colab Notebooks/bda2022_hw2_text/limit_up.csv\"\n",
        "data_up_term = \"/content/gdrive/MyDrive/Colab Notebooks/bda2022_hw2_text/limit_up_term.csv\"\n",
        "data_down = \"/content/gdrive/MyDrive/Colab Notebooks/bda2022_hw2_text/limit_down.csv\"\n",
        "data_down_term = \"/content/gdrive/MyDrive/Colab Notebooks/bda2022_hw2_text/limit_down_term.csv\""
      ],
      "metadata": {
        "id": "8vJZ2J9Y2OMT"
      },
      "execution_count": null,
      "outputs": []
    },
    {
      "cell_type": "code",
      "source": [
        "# Generate tf df and mi\n",
        "segmentation = []\n",
        "tf_counter=Counter()\n",
        "df_counter= Counter()\n",
        "num = 0\n",
        "tf_counter_up,df_counter_up,num_up,segmentation_up=counter_df_tf_articleNum(data_up,tf_counter,df_counter,num,segmentation)\n",
        "tf_counter=Counter()\n",
        "df_counter= Counter()\n",
        "num = 0\n",
        "tf_counter_down,df_counter_down,num_down,segmentation_down=counter_df_tf_articleNum(data_down,tf_counter,df_counter,num,segmentation)\n",
        "mi_counter_up = Counter()\n",
        "mi_counter_down = Counter()\n",
        "mi_counter_up,mi_counter_down = counter_mi(tf_counter_up,df_counter_up,num_up,tf_counter_down,df_counter_down,num_down,mi_counter_up,mi_counter_down)"
      ],
      "metadata": {
        "id": "VlKPZwOv8dGV",
        "colab": {
          "base_uri": "https://localhost:8080/"
        },
        "outputId": "93641d91-fd42-4b19-d88b-2ea5fcc5442b"
      },
      "execution_count": null,
      "outputs": [
        {
          "output_type": "stream",
          "name": "stderr",
          "text": [
            "/usr/local/lib/python3.7/dist-packages/monpa/crf_layer.py:374: UserWarning: where received a uint8 condition tensor. This behavior is deprecated and will be removed in a future version of PyTorch. Use a boolean condition instead. (Triggered internally at  ../aten/src/ATen/native/TensorCompare.cpp:328.)\n",
            "  score = torch.where(mask[i].unsqueeze(1), next_score, score)\n"
          ]
        }
      ]
    },
    {
      "cell_type": "code",
      "source": [
        "# Merge dataframe\n",
        "df_up = merge_dataframe(df_counter_up,tf_counter_up,mi_counter_up,num_up)\n",
        "df_down = merge_dataframe(df_counter_down,tf_counter_down,mi_counter_down,num_down)"
      ],
      "metadata": {
        "id": "MKR_A3eyFnBu"
      },
      "execution_count": null,
      "outputs": []
    },
    {
      "cell_type": "code",
      "source": [
        "df_down = df_down[~df_down['Term'].str.contains(r'[\\d.]')]\n",
        "df_down.sort_values(by=\"TF-IDF*MI\", ascending=False)"
      ],
      "metadata": {
        "colab": {
          "base_uri": "https://localhost:8080/",
          "height": 424
        },
        "id": "Vzm3hgH2MNyb",
        "outputId": "304f5aec-0d3c-4da8-d67f-1ee29c4ce431"
      },
      "execution_count": null,
      "outputs": [
        {
          "output_type": "execute_result",
          "data": {
            "text/plain": [
              "     Term   DF   TF        MI    TF-IDF  TF-IDF*MI\n",
              "2      跌停  123  367 -2.171833  0.037306  -0.081022\n",
              "19     股價   89  246 -2.880145  0.511965  -1.474534\n",
              "118    台北   70   86 -2.847449  0.749097  -2.133015\n",
              "116    記者   67   67 -2.849484  0.775180  -2.208864\n",
              "545    市場   70  154 -2.788027  0.813686  -2.268580\n",
              "...   ...  ...  ...       ...       ...        ...\n",
              "1995   立積    1   15 -2.577492  4.570598 -11.780679\n",
              "4939   板塊    1    4 -3.691435  3.364920 -12.421383\n",
              "4897  富邦媒    1    7 -3.214314  3.875390 -12.456719\n",
              "3398   周三    1   12 -2.878522  4.367051 -12.570652\n",
              "4493   稀土    1   17 -3.100371  4.684769 -14.524520\n",
              "\n",
              "[4743 rows x 6 columns]"
            ],
            "text/html": [
              "\n",
              "  <div id=\"df-0ad8a218-5faf-4c34-9a64-45de6232f783\">\n",
              "    <div class=\"colab-df-container\">\n",
              "      <div>\n",
              "<style scoped>\n",
              "    .dataframe tbody tr th:only-of-type {\n",
              "        vertical-align: middle;\n",
              "    }\n",
              "\n",
              "    .dataframe tbody tr th {\n",
              "        vertical-align: top;\n",
              "    }\n",
              "\n",
              "    .dataframe thead th {\n",
              "        text-align: right;\n",
              "    }\n",
              "</style>\n",
              "<table border=\"1\" class=\"dataframe\">\n",
              "  <thead>\n",
              "    <tr style=\"text-align: right;\">\n",
              "      <th></th>\n",
              "      <th>Term</th>\n",
              "      <th>DF</th>\n",
              "      <th>TF</th>\n",
              "      <th>MI</th>\n",
              "      <th>TF-IDF</th>\n",
              "      <th>TF-IDF*MI</th>\n",
              "    </tr>\n",
              "  </thead>\n",
              "  <tbody>\n",
              "    <tr>\n",
              "      <th>2</th>\n",
              "      <td>跌停</td>\n",
              "      <td>123</td>\n",
              "      <td>367</td>\n",
              "      <td>-2.171833</td>\n",
              "      <td>0.037306</td>\n",
              "      <td>-0.081022</td>\n",
              "    </tr>\n",
              "    <tr>\n",
              "      <th>19</th>\n",
              "      <td>股價</td>\n",
              "      <td>89</td>\n",
              "      <td>246</td>\n",
              "      <td>-2.880145</td>\n",
              "      <td>0.511965</td>\n",
              "      <td>-1.474534</td>\n",
              "    </tr>\n",
              "    <tr>\n",
              "      <th>118</th>\n",
              "      <td>台北</td>\n",
              "      <td>70</td>\n",
              "      <td>86</td>\n",
              "      <td>-2.847449</td>\n",
              "      <td>0.749097</td>\n",
              "      <td>-2.133015</td>\n",
              "    </tr>\n",
              "    <tr>\n",
              "      <th>116</th>\n",
              "      <td>記者</td>\n",
              "      <td>67</td>\n",
              "      <td>67</td>\n",
              "      <td>-2.849484</td>\n",
              "      <td>0.775180</td>\n",
              "      <td>-2.208864</td>\n",
              "    </tr>\n",
              "    <tr>\n",
              "      <th>545</th>\n",
              "      <td>市場</td>\n",
              "      <td>70</td>\n",
              "      <td>154</td>\n",
              "      <td>-2.788027</td>\n",
              "      <td>0.813686</td>\n",
              "      <td>-2.268580</td>\n",
              "    </tr>\n",
              "    <tr>\n",
              "      <th>...</th>\n",
              "      <td>...</td>\n",
              "      <td>...</td>\n",
              "      <td>...</td>\n",
              "      <td>...</td>\n",
              "      <td>...</td>\n",
              "      <td>...</td>\n",
              "    </tr>\n",
              "    <tr>\n",
              "      <th>1995</th>\n",
              "      <td>立積</td>\n",
              "      <td>1</td>\n",
              "      <td>15</td>\n",
              "      <td>-2.577492</td>\n",
              "      <td>4.570598</td>\n",
              "      <td>-11.780679</td>\n",
              "    </tr>\n",
              "    <tr>\n",
              "      <th>4939</th>\n",
              "      <td>板塊</td>\n",
              "      <td>1</td>\n",
              "      <td>4</td>\n",
              "      <td>-3.691435</td>\n",
              "      <td>3.364920</td>\n",
              "      <td>-12.421383</td>\n",
              "    </tr>\n",
              "    <tr>\n",
              "      <th>4897</th>\n",
              "      <td>富邦媒</td>\n",
              "      <td>1</td>\n",
              "      <td>7</td>\n",
              "      <td>-3.214314</td>\n",
              "      <td>3.875390</td>\n",
              "      <td>-12.456719</td>\n",
              "    </tr>\n",
              "    <tr>\n",
              "      <th>3398</th>\n",
              "      <td>周三</td>\n",
              "      <td>1</td>\n",
              "      <td>12</td>\n",
              "      <td>-2.878522</td>\n",
              "      <td>4.367051</td>\n",
              "      <td>-12.570652</td>\n",
              "    </tr>\n",
              "    <tr>\n",
              "      <th>4493</th>\n",
              "      <td>稀土</td>\n",
              "      <td>1</td>\n",
              "      <td>17</td>\n",
              "      <td>-3.100371</td>\n",
              "      <td>4.684769</td>\n",
              "      <td>-14.524520</td>\n",
              "    </tr>\n",
              "  </tbody>\n",
              "</table>\n",
              "<p>4743 rows × 6 columns</p>\n",
              "</div>\n",
              "      <button class=\"colab-df-convert\" onclick=\"convertToInteractive('df-0ad8a218-5faf-4c34-9a64-45de6232f783')\"\n",
              "              title=\"Convert this dataframe to an interactive table.\"\n",
              "              style=\"display:none;\">\n",
              "        \n",
              "  <svg xmlns=\"http://www.w3.org/2000/svg\" height=\"24px\"viewBox=\"0 0 24 24\"\n",
              "       width=\"24px\">\n",
              "    <path d=\"M0 0h24v24H0V0z\" fill=\"none\"/>\n",
              "    <path d=\"M18.56 5.44l.94 2.06.94-2.06 2.06-.94-2.06-.94-.94-2.06-.94 2.06-2.06.94zm-11 1L8.5 8.5l.94-2.06 2.06-.94-2.06-.94L8.5 2.5l-.94 2.06-2.06.94zm10 10l.94 2.06.94-2.06 2.06-.94-2.06-.94-.94-2.06-.94 2.06-2.06.94z\"/><path d=\"M17.41 7.96l-1.37-1.37c-.4-.4-.92-.59-1.43-.59-.52 0-1.04.2-1.43.59L10.3 9.45l-7.72 7.72c-.78.78-.78 2.05 0 2.83L4 21.41c.39.39.9.59 1.41.59.51 0 1.02-.2 1.41-.59l7.78-7.78 2.81-2.81c.8-.78.8-2.07 0-2.86zM5.41 20L4 18.59l7.72-7.72 1.47 1.35L5.41 20z\"/>\n",
              "  </svg>\n",
              "      </button>\n",
              "      \n",
              "  <style>\n",
              "    .colab-df-container {\n",
              "      display:flex;\n",
              "      flex-wrap:wrap;\n",
              "      gap: 12px;\n",
              "    }\n",
              "\n",
              "    .colab-df-convert {\n",
              "      background-color: #E8F0FE;\n",
              "      border: none;\n",
              "      border-radius: 50%;\n",
              "      cursor: pointer;\n",
              "      display: none;\n",
              "      fill: #1967D2;\n",
              "      height: 32px;\n",
              "      padding: 0 0 0 0;\n",
              "      width: 32px;\n",
              "    }\n",
              "\n",
              "    .colab-df-convert:hover {\n",
              "      background-color: #E2EBFA;\n",
              "      box-shadow: 0px 1px 2px rgba(60, 64, 67, 0.3), 0px 1px 3px 1px rgba(60, 64, 67, 0.15);\n",
              "      fill: #174EA6;\n",
              "    }\n",
              "\n",
              "    [theme=dark] .colab-df-convert {\n",
              "      background-color: #3B4455;\n",
              "      fill: #D2E3FC;\n",
              "    }\n",
              "\n",
              "    [theme=dark] .colab-df-convert:hover {\n",
              "      background-color: #434B5C;\n",
              "      box-shadow: 0px 1px 3px 1px rgba(0, 0, 0, 0.15);\n",
              "      filter: drop-shadow(0px 1px 2px rgba(0, 0, 0, 0.3));\n",
              "      fill: #FFFFFF;\n",
              "    }\n",
              "  </style>\n",
              "\n",
              "      <script>\n",
              "        const buttonEl =\n",
              "          document.querySelector('#df-0ad8a218-5faf-4c34-9a64-45de6232f783 button.colab-df-convert');\n",
              "        buttonEl.style.display =\n",
              "          google.colab.kernel.accessAllowed ? 'block' : 'none';\n",
              "\n",
              "        async function convertToInteractive(key) {\n",
              "          const element = document.querySelector('#df-0ad8a218-5faf-4c34-9a64-45de6232f783');\n",
              "          const dataTable =\n",
              "            await google.colab.kernel.invokeFunction('convertToInteractive',\n",
              "                                                     [key], {});\n",
              "          if (!dataTable) return;\n",
              "\n",
              "          const docLinkHtml = 'Like what you see? Visit the ' +\n",
              "            '<a target=\"_blank\" href=https://colab.research.google.com/notebooks/data_table.ipynb>data table notebook</a>'\n",
              "            + ' to learn more about interactive tables.';\n",
              "          element.innerHTML = '';\n",
              "          dataTable['output_type'] = 'display_data';\n",
              "          await google.colab.output.renderOutput(dataTable, element);\n",
              "          const docLink = document.createElement('div');\n",
              "          docLink.innerHTML = docLinkHtml;\n",
              "          element.appendChild(docLink);\n",
              "        }\n",
              "      </script>\n",
              "    </div>\n",
              "  </div>\n",
              "  "
            ]
          },
          "metadata": {},
          "execution_count": 12
        }
      ]
    },
    {
      "cell_type": "code",
      "source": [
        "# 清除 TF and DF <=2，清除含的數字關鍵字，並取前200列關鍵字\n",
        "df_up = df_clean(df_up)\n",
        "df_down = df_clean(df_down)\n",
        "\n",
        "#Generate intersection\n",
        "intersection = find_intersection(df_up,df_down)\n",
        "\n",
        "#remove top intersection words in dataframe\n",
        "df_up = remove_duplicate(df_up,intersection)\n",
        "df_down = remove_duplicate(df_down,intersection)"
      ],
      "metadata": {
        "id": "3Tj-IBlrvG3V"
      },
      "execution_count": null,
      "outputs": []
    },
    {
      "cell_type": "code",
      "source": [
        "intersection"
      ],
      "metadata": {
        "colab": {
          "base_uri": "https://localhost:8080/"
        },
        "id": "DCli9Nv83xMy",
        "outputId": "0dbb5a04-2ea2-406c-8313-4f986c8893e9"
      },
      "execution_count": null,
      "outputs": [
        {
          "output_type": "execute_result",
          "data": {
            "text/plain": [
              "['股價',\n",
              " '持續',\n",
              " '台北',\n",
              " '記者',\n",
              " '今年',\n",
              " '時報',\n",
              " '報導',\n",
              " '市場',\n",
              " '目前',\n",
              " '公司',\n",
              " '表示',\n",
              " '表現',\n",
              " '獲利',\n",
              " '由於',\n",
              " '財訊',\n",
              " '法人',\n",
              " '預期',\n",
              " '開盤',\n",
              " '快報',\n",
              " '早盤',\n",
              " '今天',\n",
              " '指出',\n",
              " '客戶',\n",
              " '以來',\n",
              " '超過',\n",
              " '價格',\n",
              " '未來',\n",
              " '主要',\n",
              " '全球',\n",
              " '其中',\n",
              " '另外',\n",
              " '以及',\n",
              " '相關',\n",
              " 'BR',\n",
              " '隨著',\n",
              " '不過',\n",
              " '中央社',\n",
              " '投資',\n",
              " '大幅',\n",
              " '新聞',\n",
              " '族群',\n",
              " '影響',\n",
              " '指數',\n",
              " '來源',\n",
              " '來到',\n",
              " '台股',\n",
              " '受到',\n",
              " '新台幣',\n",
              " '連續',\n",
              " '美國',\n",
              " '成交量',\n",
              " '第二',\n",
              " '因此',\n",
              " '高達',\n",
              " '公布',\n",
              " '中國']"
            ]
          },
          "metadata": {},
          "execution_count": 14
        }
      ]
    },
    {
      "cell_type": "code",
      "source": [
        "# list top 100 common term\n",
        "df_up = top_common_term(df_up)\n",
        "df_down = top_common_term(df_down)"
      ],
      "metadata": {
        "id": "GyfsOmLFIDfM"
      },
      "execution_count": null,
      "outputs": []
    },
    {
      "cell_type": "code",
      "source": [
        "# export term\n",
        "path_out(data_up_term,df_up.Term)\n",
        "path_out(data_down_term,df_down.Term)\n",
        "print(pd.DataFrame(df_up.Term))\n",
        "print(pd.DataFrame(df_down.Term))"
      ],
      "metadata": {
        "colab": {
          "base_uri": "https://localhost:8080/"
        },
        "id": "vjybPUjIUzKt",
        "outputId": "5a9bf0d0-d569-4406-93b4-7626af8812c8"
      },
      "execution_count": null,
      "outputs": [
        {
          "output_type": "stream",
          "name": "stdout",
          "text": [
            "Export Done\n",
            "Export Done\n",
            "     Term\n",
            "85     漲停\n",
            "235    營收\n",
            "53     新高\n",
            "882    今日\n",
            "335    成長\n",
            "...   ...\n",
            "321    應用\n",
            "996    擴大\n",
            "372   第四季\n",
            "957   第三季\n",
            "2366   編輯\n",
            "\n",
            "[100 rows x 1 columns]\n",
            "      Term\n",
            "2       跌停\n",
            "632     重挫\n",
            "74      跌幅\n",
            "23      賣壓\n",
            "62      下跌\n",
            "...    ...\n",
            "2895    跌至\n",
            "4687  跌跌不休\n",
            "4455    香港\n",
            "3534   交易商\n",
            "1971    斷頭\n",
            "\n",
            "[100 rows x 1 columns]\n"
          ]
        }
      ]
    },
    {
      "cell_type": "markdown",
      "source": [
        "### **Text Similarity-實作「以文找文」的功能：自行任意給定一段文字，從全部的漲停及跌停文件中，挑選出最相似的3篇，依相似程度由高至低排序。**"
      ],
      "metadata": {
        "id": "7adzSbhaQL_u"
      }
    },
    {
      "cell_type": "code",
      "source": [
        "# import segmentation \n",
        "def import_seg(path_in,output):\n",
        "  f = open(path_in, newline='', encoding='utf-8') #開檔 \n",
        "  rows = csv.reader(f, delimiter=',') #讀檔\n",
        "  for row in rows: \n",
        "    output.append(row[0])\n",
        "  f.close()\n",
        "  return output"
      ],
      "metadata": {
        "id": "CrbdjqAiQVxx"
      },
      "execution_count": null,
      "outputs": []
    },
    {
      "cell_type": "code",
      "source": [
        "# import termset\n",
        "def import_termset(path_in,termset,no):\n",
        "  f = open(path_in, newline='', encoding='utf-8') #開檔 \n",
        "  rows = csv.reader(f, delimiter=',') #讀檔\n",
        "  for row in rows:\n",
        "    if row[1] not in termset: #如果是新詞彙則加入(意思是重複的不列入)\n",
        "      termset[row[1]]= no\n",
        "      no+=1\n",
        "  f.close()\n",
        "  return termset , no"
      ],
      "metadata": {
        "id": "1n5ToXE6WE7Z"
      },
      "execution_count": null,
      "outputs": []
    },
    {
      "cell_type": "code",
      "source": [
        "# Generate vector space model and export\n",
        "def vsm(termset,segmentation):\n",
        "  vectorizer = TfidfVectorizer(vocabulary= termset, use_idf=True,lowercase=False)\n",
        "  X = vectorizer.fit_transform(segmentation) #用給定的termset建構向量，並使用idf加權\n",
        "  return X"
      ],
      "metadata": {
        "id": "yx8Nd8o_asPN"
      },
      "execution_count": null,
      "outputs": []
    },
    {
      "cell_type": "code",
      "source": [
        "# cut text\n",
        "def cut_text(text):\n",
        "  str='' #暫存本篇斷詞後的內容用\n",
        "  sentence_list = utils.short_sentence(text) #斷句\n",
        "  for item in sentence_list:\n",
        "    result_cut = monpa.cut(item) #斷詞\n",
        "    for term in result_cut:\n",
        "      term=term.strip() #去除前後多餘空白\n",
        "      if(len(term)>1): #若詞長>1\n",
        "        str=str+' '+term\n",
        "  return str"
      ],
      "metadata": {
        "id": "TBp16WFpeKfx"
      },
      "execution_count": null,
      "outputs": []
    },
    {
      "cell_type": "code",
      "source": [
        "# find three of the most similar doc in segmentation\n",
        "def similarity(str,termset,segmentation):\n",
        "  vectorizer = TfidfVectorizer(vocabulary=termset, use_idf=True,lowercase=False)\n",
        "  q = vectorizer.fit_transform([str]) #將查詢也套入同一個向量空間\n",
        "  # print(q[0:1]) #印出該向量做觀察\n",
        "  cosine_similarities = linear_kernel(q[0:1], X).flatten() #與給定文件集的向量做相似度計算\n",
        "  # print(cosine_similarities) #印出與每一篇的相似度做觀察\n",
        "  related_docs_indices = cosine_similarities.argsort() #將相似度由小至大做排序，並轉換成文件編號\n",
        "  # print(related_docs_indices)\n",
        "  d=related_docs_indices[:-4:-1] #從後面取5個文件編號 (也就是相似度最大的前3名)\n",
        "  for i in d:\n",
        "    print('doc ',i,' : '+segmentation[i]) #印出這些文件內容"
      ],
      "metadata": {
        "id": "KFVSIaG4fbIZ"
      },
      "execution_count": null,
      "outputs": []
    },
    {
      "cell_type": "code",
      "source": [
        "# Import termset\n",
        "data_up_term = \"/content/gdrive/MyDrive/Colab Notebooks/bda2022_hw2_text/limit_up_term.csv\"\n",
        "data_down_term = \"/content/gdrive/MyDrive/Colab Notebooks/bda2022_hw2_text/limit_down_term.csv\"\n",
        "termset= dict()\n",
        "no = 0\n",
        "termset,no = import_termset(data_up_term,termset,no)\n",
        "termset,no = import_termset(data_down_term,termset,no)\n",
        "\n",
        "\n",
        "# Import npz file\n",
        "# model_npz = \"/content/gdrive/MyDrive/Colab Notebooks/bda2022_hw2_text/limit_model.npz\"\n",
        "X = vsm(termset,segmentation)\n",
        "\n",
        "\n",
        "#給定任何一段內容當作查詢\n",
        "test ='台股開高走低，買盤轉向具題材的網通族群。低軌衛星國家隊的耀登（3138）盤中攻上漲停201元價位，昇達科（3491）盤中也一度觸及200元關卡，創1月19日來新高。\\\n",
        "搭上低軌衛星成長商機的昇達科日前在法人說明會指出，低軌衛星寬頻網路可解決目前有線、無線行動通訊覆蓋率不足的問題，看好低軌衛星未來10年商機，今年業績成長10.5倍。\\\n",
        "昇達科掌握全球主要低軌衛星通訊業者訂單，包括SpaceX、OneWeb及AmazonKuiper，Telesat則是進入規格討論階段。\\\n",
        "昇達科今天盤中一度攻至200元價位，大漲5.54%，不過尾盤短線賣壓出籠，以193元作收，漲幅1.85%；昇達科子公司芮特-KY（6514）今天也獲買盤青睞，10時過後攻上73.8元漲停價位。\\\n",
        "而衛星通訊概念族群的台揚（2314）、建漢（3062）及譁裕（3419），也在中低價轉機題材下全面攻上漲停，以70.5元、28.95元及23.35元作收。\\\n",
        "其他網通族群方面，24日舉行法人說明會的合勤控（3704）今天收在30.55元，上漲2.69%；明泰（3380）、正文（4906）分別以32.5元及32.2元作收，漲幅1.4%及1.1%，\\\n",
        "合勤控在法說會中表示，今年訂單能見度高甚至看到年底，但塞港、長短料瓶頸仍待改善，成長力道有限，將優先活化庫存。\\\n",
        "明泰科技日前在法說會表示，2021年區域都會網路的產品線占比從27%增加至32%，受缺料衝擊較小，維持穩定出貨。400G交換器已準備就緒，今年以設計代工（ODM）為主，Wi-Fi6占整體Wi-Fi比重已達35%，Wi-Fi5占60%，其餘5%為Wi-Fi4產品。\\\n",
        "正文2021年因零組件價格上漲、新台幣及人民幣升值等因素，毛利率受影響而下滑，但全年度營收仍穩定向上。展望2022年零組件價格上漲壓力趨緩，加上新台幣回貶、高毛利率產品比重提升，有助於毛利率改善。'\n",
        "similarity(cut_text(test),termset,segmentation)"
      ],
      "metadata": {
        "colab": {
          "base_uri": "https://localhost:8080/"
        },
        "id": "GncTrkmyg2wF",
        "outputId": "b9765c50-67ee-4537-e1f5-b6bcbe70b804"
      },
      "execution_count": null,
      "outputs": [
        {
          "output_type": "stream",
          "name": "stdout",
          "text": [
            "doc  141  :  熱門 族群 聯發科 漲停 晶心科 揚智 亮燈 齊賀 時報 記者 王逸芯 台北 報導 聯發科 2454 上演 驚奇 第一 16.24 加上 未來 特別 股利 以及 營收 成長 40 超優 展望 股價 開盤 風光 攻上 漲停 鎖住 站穩 1185 10 00 停價 張數 2900 顯示 市場 熱絡 程度 聯發科 隨著 市占率 歐美 高階 規格 市場 持續 擴張 以及 滲透率 持續 上升 帶來 效益 今年 獲利 相當 機會 挑戰 新高 隨著 聯發科 漲停 帶動 概念股 揚智 3041 晶心科 6533 同樣 漲停 聯發科 昨日 舉行 法說會 首季 16.21 優於 市場 預期 預期 營收 至少 季增 一成 新猷 執行長 蔡力行 表示 現在 看到 成長 動能 今年 營收 增幅 至少 40 起跳 上調 毛利率 目標 44 46 聯發科 目前 訂單 需求 年初 預期 強勁 給出 2021年 營收 成長 40 以上 毛利率 區間 上升 44 46 展望 考量 手機 晶片 市占率 擴張 趨勢 持續 預期 歐美 市場 拿下 更多 市占 空間 重回 旗艦 產品 市場 加上 Wi-Fi 規格 升級 電源 管理 產品 需求 強勁 今年 獲利 機會 挑戰 新高 另外 昨日 法說會 驚奇 回饋 股東 長期 支持 聯發科 調整 配息 政策 過往 配息率 60 70 80 85 2021 2024 年度 加發 1000億 現金 股利 換言 股東 收到 16 現金 股利\n",
            "doc  376  :  世界 先進 第3季 展望 樂觀 股價 奔漲 停創 天價 中央社 記者 張建中 新竹 2021年 8月 4日 世界 先進 第3季 營運 展望 樂觀 營收 115億 119億 可望 續創 歷史 新高 毛利率 44 46 世界 先進 今天 股價 表現 強勁 強攻 漲停 133.5 天價 受惠 手機 尺寸 面板 驅動 IC 客戶 晶圓 代工 需求 持續 成長 世界 先進 5347 預期 第3 營收 新台幣 115億 119億 中間值 117億 季增 15 歷史 新高 世界 先進 第3 晶圓 產能 增加 隨著 售價 調漲 產品 組合 產品 平均 售價 第2 上揚 11 13 毛利率 44 46 中間值 45 第2 拉升 分點 法人 預期 世界 先進 第3 獲利 可望 去年 倍增 單季 純益 1.93 獲利 年增 8成 純益 6.6 世界 先進 今天 市場 買盤 積極 湧入 股價 表現 強勁 早盤 攻上 漲停 133.5 上漲 12 漲幅 9.88 一舉 天價\n",
            "doc  250  :  IP 類股 輪漲 Intel SiFive 飛騰 訂單 有望 放行 晶心科 世芯 漲停 財訊 快報 記者 李純君 報導 受惠於 資金 輪動 效應 帶動 近期 IP 類股 表現 強勁 單力 3529 日前 穩穩 站上 大關 傳出 英特爾 20億 美元 收購 RISC-V 體系 SiFive 帶動 今日 晶心科 6533 股價 攻上 漲停 545 鎖住 成交量 超過 3600 900 以上 掛單 至於 世芯 -KY 3661 傳出 客戶 飛騰 訂單 機會 放行 攻上 漲停 價位 鎖住 SiFive 成立 2015年 RISC-V 架構 為主 晶圓廠 半導體 新創 公司 致力 推動 RISC-V 架構 雖然 至今 市場 IP 架構 Arm 為主 去年 NVIDIA 400 美元 收購 Arm 之後 諸多 大廠 擔心 Arm 獨立性 紛紛 轉向 接觸 RISC-V 架構 SiFive 收到 許多 企業 收購 計畫 近日 傳出 英特爾 SiFive 提出 收購 計畫 價格 20億 美元 收購案 一定 能成 RISC-V 架構 重新 市場 高度 關注 RISC-V 架構 聲勢 大漲 因此 帶動 今日 台灣 RISC-V 架構 晶心科 買單 大舉 湧入 攻上 漲停 價位 不單 站上 500 大關 收復 跌點 實際 以來 部分 資金 回頭 布局 半導體 產業 尤其 鎖定 IP 概念股 力旺 雖然 今日 延續 創下 歷史 新高 價位 1210 世芯 KY 傳出 客戶 飛騰 訂單 可能 放行 致使 買單 強力 湧進 攻上 漲停 578 價位 鎖住 成交量 超過 6300 31 創意 後續 業績 獲利 今日 同步 大漲 BR\n"
          ]
        }
      ]
    },
    {
      "cell_type": "markdown",
      "source": [
        "### **Auto-Tagging-實作「文件自動標記」的分類功能：自行任意給定一段文字，看內容較相似於漲停文件或跌停文件，進而決定應該標記為漲停及跌停類別。**"
      ],
      "metadata": {
        "id": "1hTs7URXjeEl"
      }
    },
    {
      "cell_type": "code",
      "source": [
        "def predict_doc(doc):\n",
        "  classifier = DecisionTreeClassifier(criterion=\"entropy\")\n",
        "  classifier.fit(X,y) #訓練\n",
        "  y_pred = classifier.predict(vsm(termset,[doc])) #預測\n",
        "  print(y_pred)"
      ],
      "metadata": {
        "id": "mFHSIYCEmmsS"
      },
      "execution_count": null,
      "outputs": []
    },
    {
      "cell_type": "code",
      "source": [
        "# X = sparse.load_npz(\"/content/gdrive/MyDrive/Colab Notebooks/bda2022_hw2_text/limit_model.npz\") #讀入稀疏矩陣\n",
        "\n",
        "# 已知 y\n",
        "y=[] #用以儲存已知類別\n",
        "for i in range(612): #已知前612篇為漲停，標記為看漲 (此為取巧權宜作法)\n",
        "  y.append(['看漲'])\n",
        "for i in range(126): #已知後126篇為跌停，標記為看跌\n",
        "  y.append(['看跌'])\n",
        "\n",
        "\n",
        "test ='台股開高走低，買盤轉向具題材的網通族群。低軌衛星國家隊的耀登（3138）盤中攻上漲停201元價位，昇達科（3491）盤中也一度觸及200元關卡，創1月19日來新高。\\\n",
        "搭上低軌衛星成長商機的昇達科日前在法人說明會指出，低軌衛星寬頻網路可解決目前有線、無線行動通訊覆蓋率不足的問題，看好低軌衛星未來10年商機，今年業績成長10.5倍。\\\n",
        "昇達科掌握全球主要低軌衛星通訊業者訂單，包括SpaceX、OneWeb及AmazonKuiper，Telesat則是進入規格討論階段。\\\n",
        "昇達科今天盤中一度攻至200元價位，大漲5.54%，不過尾盤短線賣壓出籠，以193元作收，漲幅1.85%；昇達科子公司芮特-KY（6514）今天也獲買盤青睞，10時過後攻上73.8元漲停價位。\\\n",
        "而衛星通訊概念族群的台揚（2314）、建漢（3062）及譁裕（3419），也在中低價轉機題材下全面攻上漲停，以70.5元、28.95元及23.35元作收。\\\n",
        "其他網通族群方面，24日舉行法人說明會的合勤控（3704）今天收在30.55元，上漲2.69%；明泰（3380）、正文（4906）分別以32.5元及32.2元作收，漲幅1.4%及1.1%，\\\n",
        "合勤控在法說會中表示，今年訂單能見度高甚至看到年底，但塞港、長短料瓶頸仍待改善，成長力道有限，將優先活化庫存。\\\n",
        "明泰科技日前在法說會表示，2021年區域都會網路的產品線占比從27%增加至32%，受缺料衝擊較小，維持穩定出貨。400G交換器已準備就緒，今年以設計代工（ODM）為主，Wi-Fi6占整體Wi-Fi比重已達35%，Wi-Fi5占60%，其餘5%為Wi-Fi4產品。\\\n",
        "正文2021年因零組件價格上漲、新台幣及人民幣升值等因素，毛利率受影響而下滑，但全年度營收仍穩定向上。展望2022年零組件價格上漲壓力趨緩，加上新台幣回貶、高毛利率產品比重提升，有助於毛利率改善。'\n",
        "\n",
        "predict_doc(cut_text(test))"
      ],
      "metadata": {
        "colab": {
          "base_uri": "https://localhost:8080/"
        },
        "id": "eYLEr0g-mppy",
        "outputId": "5b4f855f-d9a4-48cd-9cd8-b573cfe84cc5"
      },
      "execution_count": null,
      "outputs": [
        {
          "output_type": "stream",
          "name": "stdout",
          "text": [
            "['看漲']\n"
          ]
        }
      ]
    },
    {
      "cell_type": "markdown",
      "source": [
        "### **Model Selection-模型選擇**"
      ],
      "metadata": {
        "id": "pYC7ir0N17hU"
      }
    },
    {
      "cell_type": "code",
      "source": [
        "X = sparse.load_npz(\"/content/gdrive/MyDrive/Colab Notebooks/bda2022_hw2_text/limit_model.npz\") #讀入稀疏矩陣\n",
        "# 已知 y\n",
        "y=[] #用以儲存已知類別\n",
        "for i in range(612): #已知前612篇為漲停，標記為看漲 (此為取巧權宜作法)\n",
        "  y.append(['看漲'])\n",
        "for i in range(126): #已知後126篇為跌停，標記為看跌\n",
        "  y.append(['看跌'])\n",
        "\n",
        "X_train, X_test, y_train, y_test = train_test_split(X,y,test_size=0.30)\n",
        "\n",
        "classifier = KNeighborsClassifier(n_neighbors=7)\n",
        "cv = ShuffleSplit(n_splits=5, test_size=0.3, random_state=1234)\n",
        "scores = cross_val_score(classifier,X,numpy.ravel(y),cv=cv,scoring='accuracy') #交叉驗證，計算準確率\n",
        "print(\"KNN Model\")\n",
        "print(\"Avg. Accuracy:\",scores.mean())\n",
        "print(\"===================================\")\n",
        "\n",
        "\n",
        "\n",
        "classifier = MultinomialNB()\n",
        "cv = ShuffleSplit(n_splits=5, test_size=0.3, random_state=1234)\n",
        "scores = cross_val_score(classifier,X,numpy.ravel(y),cv=cv,scoring='accuracy') #交叉驗證，計算準確率\n",
        "print(\"MultinomialNB\")\n",
        "print(\"Avg. Accuracy:\",scores.mean())\n",
        "print(\"===================================\")\n",
        "\n",
        "\n",
        "\n",
        "classifier = DecisionTreeClassifier(criterion=\"entropy\")\n",
        "cv = ShuffleSplit(n_splits=5, test_size=0.3, random_state=1234)\n",
        "scores = cross_val_score(classifier,X,y,scoring='accuracy',cv=cv) #交叉驗證，計算準確率\n",
        "print(\"DecisionTreeClassifier\")\n",
        "print(\"Avg. Accuracy:\",scores.mean())\n",
        "print(\"===================================\")\n",
        "\n",
        "classifier.fit(X_train,y_train)\n",
        "y_pred = classifier.predict(X_test)\n",
        "print(\"Accuracy:\",metrics.accuracy_score(y_test,y_pred))\n",
        "print(classification_report(y_test,y_pred))\n",
        "print(confusion_matrix(y_test,y_pred,labels=['看漲','看跌']))\n",
        "# test/pred 看漲    看跌\n",
        "# 看漲       TN      FP\n",
        "# 看跌       FN      TP"
      ],
      "metadata": {
        "colab": {
          "base_uri": "https://localhost:8080/"
        },
        "id": "Q5Naj3E12BJp",
        "outputId": "284ccc3e-c344-477d-f974-e913c4b786c8"
      },
      "execution_count": null,
      "outputs": [
        {
          "output_type": "stream",
          "name": "stdout",
          "text": [
            "KNN Model\n",
            "Avg. Accuracy: 0.918018018018018\n",
            "===================================\n",
            "MultinomialNB\n",
            "Avg. Accuracy: 0.9234234234234234\n",
            "===================================\n",
            "DecisionTreeClassifier\n",
            "Avg. Accuracy: 0.972972972972973\n",
            "===================================\n",
            "Accuracy: 0.990990990990991\n",
            "              precision    recall  f1-score   support\n",
            "\n",
            "          看漲       0.99      0.99      0.99       192\n",
            "          看跌       0.97      0.97      0.97        30\n",
            "\n",
            "    accuracy                           0.99       222\n",
            "   macro avg       0.98      0.98      0.98       222\n",
            "weighted avg       0.99      0.99      0.99       222\n",
            "\n",
            "[[191   1]\n",
            " [  1  29]]\n"
          ]
        }
      ]
    },
    {
      "cell_type": "markdown",
      "source": [
        "### **製作文字雲**"
      ],
      "metadata": {
        "id": "3zGEYbGXZPa3"
      }
    },
    {
      "cell_type": "code",
      "source": [
        "#以下 文字雲\n",
        "\n",
        "font_path = ('/content/gdrive/MyDrive/Colab Notebooks/bda2022_hw2_text/SNsanafonMugiV260.ttf') # 設定字體格式\n",
        "\n",
        "wc = wordcloud.WordCloud(background_color='white',\n",
        "                         margin=2, # 文字間距\n",
        "                        font_path=font_path, # 設定字體\n",
        "                         max_words=1000, # 取多少文字在裡面\n",
        "                         width=1920, height=1080, # 長寬解析度\n",
        "                         relative_scaling=1 # 詞頻與詞大小關聯性\n",
        "                         )\n",
        "# 生成文字雲\n",
        "# wc.generate_from_frequencies()) # 吃入次數字典資料\n",
        "mi_dict = dict(zip(df_up['Term'], df_up[\"TF-IDF*MI\"]))\n",
        "wc.generate_from_frequencies(mi_dict) # 吃入次數字典資料\n",
        "plt.imshow(wc)\n",
        "wc.to_file('/content/gdrive/MyDrive/Colab Notebooks/bda2022_hw2_text/limit_up.png')"
      ],
      "metadata": {
        "id": "TEgygLXSZR6p",
        "colab": {
          "base_uri": "https://localhost:8080/",
          "height": 257
        },
        "outputId": "480c488a-e3d8-4f8b-e9d1-1573c0197144"
      },
      "execution_count": null,
      "outputs": [
        {
          "output_type": "execute_result",
          "data": {
            "text/plain": [
              "<wordcloud.wordcloud.WordCloud at 0x7f8b27f8cb10>"
            ]
          },
          "metadata": {},
          "execution_count": 322
        },
        {
          "output_type": "display_data",
          "data": {
            "text/plain": [
              "<Figure size 432x288 with 1 Axes>"
            ],
            "image/png": "[encoded data removed]"
          },
          "metadata": {
            "needs_background": "light"
          }
        }
      ]
    }
  ]
}